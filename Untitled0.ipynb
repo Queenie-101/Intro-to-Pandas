{
  "nbformat": 4,
  "nbformat_minor": 0,
  "metadata": {
    "colab": {
      "provenance": [],
      "authorship_tag": "ABX9TyN29BT1aT6yaJTUdLSJQ55b",
      "include_colab_link": true
    },
    "kernelspec": {
      "name": "python3",
      "display_name": "Python 3"
    },
    "language_info": {
      "name": "python"
    }
  },
  "cells": [
    {
      "cell_type": "markdown",
      "metadata": {
        "id": "view-in-github",
        "colab_type": "text"
      },
      "source": [
        "<a href=\"https://colab.research.google.com/github/Queenie-101/Intro-to-Pandas/blob/main/Untitled0.ipynb\" target=\"_parent\"><img src=\"https://colab.research.google.com/assets/colab-badge.svg\" alt=\"Open In Colab\"/></a>"
      ]
    },
    {
      "cell_type": "code",
      "execution_count": 1,
      "metadata": {
        "id": "2jp-OgBGrdX3"
      },
      "outputs": [],
      "source": [
        "import numpy as np\n",
        "#used to perform mathematical operations\n",
        "import pandas as pd\n",
        "#used to perform data analysis"
      ]
    },
    {
      "cell_type": "code",
      "source": [
        "#create the data\n",
        "student_data={\"Names\":[\"Jayla\",\"Maverick\",\"Chantel\",\"Sean\",\"Peace\",\"David\",\"Esther\",\"Enny\",\"Dami\",\"Michael\"],\n",
        "              \"Age\":[17,16,16,17,15,16,17,16,16,17],\n",
        "              \"Adress\":[\"California\",\"Nigeria\",\"Los Angeles\",\"Stanford\",\"Nigeria\",\"America\",\"London\",\"San Franciso\",\"Canada\",\"Canada\"]}\n",
        "#display the data\n",
        "print(student_data)"
      ],
      "metadata": {
        "colab": {
          "base_uri": "https://localhost:8080/"
        },
        "id": "FozhDD6Gs2Wh",
        "outputId": "37381704-b3f1-4e36-a1aa-95f4df5be163"
      },
      "execution_count": 7,
      "outputs": [
        {
          "output_type": "stream",
          "name": "stdout",
          "text": [
            "{'Names': ['Jayla', 'Maverick', 'Chantel', 'Sean', 'Peace', 'David', 'Esther', 'Enny', 'Dami', 'Michael'], 'Age': [17, 16, 16, 17, 15, 16, 17, 16, 16, 17], 'Adress': ['California', 'Nigeria', 'Los Angeles', 'Stanford', 'Nigeria', 'America', 'London', 'San Franciso', 'Canada', 'Canada']}\n"
          ]
        }
      ]
    },
    {
      "cell_type": "code",
      "source": [
        "#sort the data according to age\n",
        "np.sort(student_data[\"Age\"])\n",
        "print(student_data)"
      ],
      "metadata": {
        "colab": {
          "base_uri": "https://localhost:8080/"
        },
        "id": "eeXrENP-wSdu",
        "outputId": "a99d74ad-a0e1-45da-a4db-87c50deaa103"
      },
      "execution_count": 8,
      "outputs": [
        {
          "output_type": "stream",
          "name": "stdout",
          "text": [
            "{'Names': ['Jayla', 'Maverick', 'Chantel', 'Sean', 'Peace', 'David', 'Esther', 'Enny', 'Dami', 'Michael'], 'Age': [17, 16, 16, 17, 15, 16, 17, 16, 16, 17], 'Adress': ['California', 'Nigeria', 'Los Angeles', 'Stanford', 'Nigeria', 'America', 'London', 'San Franciso', 'Canada', 'Canada']}\n"
          ]
        }
      ]
    },
    {
      "cell_type": "code",
      "source": [
        "#create a data frame\n",
        "df=pd.DataFrame(student_data)\n",
        "print(df)"
      ],
      "metadata": {
        "colab": {
          "base_uri": "https://localhost:8080/"
        },
        "id": "xDLlRlKcxuTx",
        "outputId": "eb910a0f-a833-4982-b44d-a1c14aa6c8ad"
      },
      "execution_count": 9,
      "outputs": [
        {
          "output_type": "stream",
          "name": "stdout",
          "text": [
            "      Names  Age        Adress\n",
            "0     Jayla   17    California\n",
            "1  Maverick   16       Nigeria\n",
            "2   Chantel   16   Los Angeles\n",
            "3      Sean   17      Stanford\n",
            "4     Peace   15       Nigeria\n",
            "5     David   16       America\n",
            "6    Esther   17        London\n",
            "7      Enny   16  San Franciso\n",
            "8      Dami   16        Canada\n",
            "9   Michael   17        Canada\n"
          ]
        }
      ]
    }
  ]
}